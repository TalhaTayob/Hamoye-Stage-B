{
 "cells": [
  {
   "cell_type": "code",
   "execution_count": 1,
   "id": "28534003",
   "metadata": {},
   "outputs": [
    {
     "data": {
      "text/html": [
       "<div>\n",
       "<style scoped>\n",
       "    .dataframe tbody tr th:only-of-type {\n",
       "        vertical-align: middle;\n",
       "    }\n",
       "\n",
       "    .dataframe tbody tr th {\n",
       "        vertical-align: top;\n",
       "    }\n",
       "\n",
       "    .dataframe thead th {\n",
       "        text-align: right;\n",
       "    }\n",
       "</style>\n",
       "<table border=\"1\" class=\"dataframe\">\n",
       "  <thead>\n",
       "    <tr style=\"text-align: right;\">\n",
       "      <th></th>\n",
       "      <th>Appliances</th>\n",
       "      <th>lights</th>\n",
       "      <th>T1</th>\n",
       "      <th>RH_1</th>\n",
       "      <th>T2</th>\n",
       "      <th>RH_2</th>\n",
       "      <th>T3</th>\n",
       "      <th>RH_3</th>\n",
       "      <th>T4</th>\n",
       "      <th>RH_4</th>\n",
       "      <th>T5</th>\n",
       "      <th>RH_5</th>\n",
       "      <th>T6</th>\n",
       "      <th>RH_6</th>\n",
       "      <th>T7</th>\n",
       "      <th>RH_7</th>\n",
       "      <th>T8</th>\n",
       "      <th>RH_8</th>\n",
       "      <th>T9</th>\n",
       "      <th>RH_9</th>\n",
       "      <th>T_out</th>\n",
       "      <th>Press_mm_hg</th>\n",
       "      <th>RH_out</th>\n",
       "      <th>Windspeed</th>\n",
       "      <th>Visibility</th>\n",
       "      <th>Tdewpoint</th>\n",
       "      <th>rv1</th>\n",
       "      <th>rv2</th>\n",
       "    </tr>\n",
       "    <tr>\n",
       "      <th>date</th>\n",
       "      <th></th>\n",
       "      <th></th>\n",
       "      <th></th>\n",
       "      <th></th>\n",
       "      <th></th>\n",
       "      <th></th>\n",
       "      <th></th>\n",
       "      <th></th>\n",
       "      <th></th>\n",
       "      <th></th>\n",
       "      <th></th>\n",
       "      <th></th>\n",
       "      <th></th>\n",
       "      <th></th>\n",
       "      <th></th>\n",
       "      <th></th>\n",
       "      <th></th>\n",
       "      <th></th>\n",
       "      <th></th>\n",
       "      <th></th>\n",
       "      <th></th>\n",
       "      <th></th>\n",
       "      <th></th>\n",
       "      <th></th>\n",
       "      <th></th>\n",
       "      <th></th>\n",
       "      <th></th>\n",
       "      <th></th>\n",
       "    </tr>\n",
       "  </thead>\n",
       "  <tbody>\n",
       "    <tr>\n",
       "      <th>2016-01-11 17:00:00</th>\n",
       "      <td>0.046729</td>\n",
       "      <td>0.428571</td>\n",
       "      <td>0.32735</td>\n",
       "      <td>0.566187</td>\n",
       "      <td>0.225345</td>\n",
       "      <td>0.684038</td>\n",
       "      <td>0.215188</td>\n",
       "      <td>0.746066</td>\n",
       "      <td>0.351351</td>\n",
       "      <td>0.764262</td>\n",
       "      <td>0.175506</td>\n",
       "      <td>0.381691</td>\n",
       "      <td>0.381070</td>\n",
       "      <td>0.841827</td>\n",
       "      <td>0.170594</td>\n",
       "      <td>0.653428</td>\n",
       "      <td>0.173329</td>\n",
       "      <td>0.661412</td>\n",
       "      <td>0.223032</td>\n",
       "      <td>0.677290</td>\n",
       "      <td>0.372990</td>\n",
       "      <td>0.097674</td>\n",
       "      <td>0.894737</td>\n",
       "      <td>0.500000</td>\n",
       "      <td>0.953846</td>\n",
       "      <td>0.538462</td>\n",
       "      <td>0.265449</td>\n",
       "      <td>0.265449</td>\n",
       "    </tr>\n",
       "    <tr>\n",
       "      <th>2016-01-11 17:10:00</th>\n",
       "      <td>0.046729</td>\n",
       "      <td>0.428571</td>\n",
       "      <td>0.32735</td>\n",
       "      <td>0.541326</td>\n",
       "      <td>0.225345</td>\n",
       "      <td>0.682140</td>\n",
       "      <td>0.215188</td>\n",
       "      <td>0.748871</td>\n",
       "      <td>0.351351</td>\n",
       "      <td>0.782437</td>\n",
       "      <td>0.175506</td>\n",
       "      <td>0.381691</td>\n",
       "      <td>0.375443</td>\n",
       "      <td>0.839872</td>\n",
       "      <td>0.170594</td>\n",
       "      <td>0.651064</td>\n",
       "      <td>0.173329</td>\n",
       "      <td>0.660155</td>\n",
       "      <td>0.226500</td>\n",
       "      <td>0.678532</td>\n",
       "      <td>0.369239</td>\n",
       "      <td>0.100000</td>\n",
       "      <td>0.894737</td>\n",
       "      <td>0.476190</td>\n",
       "      <td>0.894872</td>\n",
       "      <td>0.533937</td>\n",
       "      <td>0.372083</td>\n",
       "      <td>0.372083</td>\n",
       "    </tr>\n",
       "    <tr>\n",
       "      <th>2016-01-11 17:20:00</th>\n",
       "      <td>0.037383</td>\n",
       "      <td>0.428571</td>\n",
       "      <td>0.32735</td>\n",
       "      <td>0.530502</td>\n",
       "      <td>0.225345</td>\n",
       "      <td>0.679445</td>\n",
       "      <td>0.215188</td>\n",
       "      <td>0.755569</td>\n",
       "      <td>0.344745</td>\n",
       "      <td>0.778062</td>\n",
       "      <td>0.175506</td>\n",
       "      <td>0.380037</td>\n",
       "      <td>0.367487</td>\n",
       "      <td>0.830704</td>\n",
       "      <td>0.170594</td>\n",
       "      <td>0.646572</td>\n",
       "      <td>0.173329</td>\n",
       "      <td>0.655586</td>\n",
       "      <td>0.219563</td>\n",
       "      <td>0.676049</td>\n",
       "      <td>0.365488</td>\n",
       "      <td>0.102326</td>\n",
       "      <td>0.894737</td>\n",
       "      <td>0.452381</td>\n",
       "      <td>0.835897</td>\n",
       "      <td>0.529412</td>\n",
       "      <td>0.572848</td>\n",
       "      <td>0.572848</td>\n",
       "    </tr>\n",
       "    <tr>\n",
       "      <th>2016-01-11 17:30:00</th>\n",
       "      <td>0.037383</td>\n",
       "      <td>0.571429</td>\n",
       "      <td>0.32735</td>\n",
       "      <td>0.524080</td>\n",
       "      <td>0.225345</td>\n",
       "      <td>0.678414</td>\n",
       "      <td>0.215188</td>\n",
       "      <td>0.758685</td>\n",
       "      <td>0.341441</td>\n",
       "      <td>0.770949</td>\n",
       "      <td>0.175506</td>\n",
       "      <td>0.380037</td>\n",
       "      <td>0.363800</td>\n",
       "      <td>0.833401</td>\n",
       "      <td>0.164310</td>\n",
       "      <td>0.641489</td>\n",
       "      <td>0.164175</td>\n",
       "      <td>0.650788</td>\n",
       "      <td>0.219563</td>\n",
       "      <td>0.671909</td>\n",
       "      <td>0.361736</td>\n",
       "      <td>0.104651</td>\n",
       "      <td>0.894737</td>\n",
       "      <td>0.428571</td>\n",
       "      <td>0.776923</td>\n",
       "      <td>0.524887</td>\n",
       "      <td>0.908261</td>\n",
       "      <td>0.908261</td>\n",
       "    </tr>\n",
       "    <tr>\n",
       "      <th>2016-01-11 17:40:00</th>\n",
       "      <td>0.046729</td>\n",
       "      <td>0.571429</td>\n",
       "      <td>0.32735</td>\n",
       "      <td>0.531419</td>\n",
       "      <td>0.225345</td>\n",
       "      <td>0.676727</td>\n",
       "      <td>0.215188</td>\n",
       "      <td>0.758685</td>\n",
       "      <td>0.341441</td>\n",
       "      <td>0.762697</td>\n",
       "      <td>0.178691</td>\n",
       "      <td>0.380037</td>\n",
       "      <td>0.361859</td>\n",
       "      <td>0.848264</td>\n",
       "      <td>0.170594</td>\n",
       "      <td>0.639362</td>\n",
       "      <td>0.164175</td>\n",
       "      <td>0.650788</td>\n",
       "      <td>0.219563</td>\n",
       "      <td>0.671909</td>\n",
       "      <td>0.357985</td>\n",
       "      <td>0.106977</td>\n",
       "      <td>0.894737</td>\n",
       "      <td>0.404762</td>\n",
       "      <td>0.717949</td>\n",
       "      <td>0.520362</td>\n",
       "      <td>0.201611</td>\n",
       "      <td>0.201611</td>\n",
       "    </tr>\n",
       "  </tbody>\n",
       "</table>\n",
       "</div>"
      ],
      "text/plain": [
       "                     Appliances    lights       T1      RH_1        T2  \\\n",
       "date                                                                     \n",
       "2016-01-11 17:00:00    0.046729  0.428571  0.32735  0.566187  0.225345   \n",
       "2016-01-11 17:10:00    0.046729  0.428571  0.32735  0.541326  0.225345   \n",
       "2016-01-11 17:20:00    0.037383  0.428571  0.32735  0.530502  0.225345   \n",
       "2016-01-11 17:30:00    0.037383  0.571429  0.32735  0.524080  0.225345   \n",
       "2016-01-11 17:40:00    0.046729  0.571429  0.32735  0.531419  0.225345   \n",
       "\n",
       "                         RH_2        T3      RH_3        T4      RH_4  \\\n",
       "date                                                                    \n",
       "2016-01-11 17:00:00  0.684038  0.215188  0.746066  0.351351  0.764262   \n",
       "2016-01-11 17:10:00  0.682140  0.215188  0.748871  0.351351  0.782437   \n",
       "2016-01-11 17:20:00  0.679445  0.215188  0.755569  0.344745  0.778062   \n",
       "2016-01-11 17:30:00  0.678414  0.215188  0.758685  0.341441  0.770949   \n",
       "2016-01-11 17:40:00  0.676727  0.215188  0.758685  0.341441  0.762697   \n",
       "\n",
       "                           T5      RH_5        T6      RH_6        T7  \\\n",
       "date                                                                    \n",
       "2016-01-11 17:00:00  0.175506  0.381691  0.381070  0.841827  0.170594   \n",
       "2016-01-11 17:10:00  0.175506  0.381691  0.375443  0.839872  0.170594   \n",
       "2016-01-11 17:20:00  0.175506  0.380037  0.367487  0.830704  0.170594   \n",
       "2016-01-11 17:30:00  0.175506  0.380037  0.363800  0.833401  0.164310   \n",
       "2016-01-11 17:40:00  0.178691  0.380037  0.361859  0.848264  0.170594   \n",
       "\n",
       "                         RH_7        T8      RH_8        T9      RH_9  \\\n",
       "date                                                                    \n",
       "2016-01-11 17:00:00  0.653428  0.173329  0.661412  0.223032  0.677290   \n",
       "2016-01-11 17:10:00  0.651064  0.173329  0.660155  0.226500  0.678532   \n",
       "2016-01-11 17:20:00  0.646572  0.173329  0.655586  0.219563  0.676049   \n",
       "2016-01-11 17:30:00  0.641489  0.164175  0.650788  0.219563  0.671909   \n",
       "2016-01-11 17:40:00  0.639362  0.164175  0.650788  0.219563  0.671909   \n",
       "\n",
       "                        T_out  Press_mm_hg    RH_out  Windspeed  Visibility  \\\n",
       "date                                                                          \n",
       "2016-01-11 17:00:00  0.372990     0.097674  0.894737   0.500000    0.953846   \n",
       "2016-01-11 17:10:00  0.369239     0.100000  0.894737   0.476190    0.894872   \n",
       "2016-01-11 17:20:00  0.365488     0.102326  0.894737   0.452381    0.835897   \n",
       "2016-01-11 17:30:00  0.361736     0.104651  0.894737   0.428571    0.776923   \n",
       "2016-01-11 17:40:00  0.357985     0.106977  0.894737   0.404762    0.717949   \n",
       "\n",
       "                     Tdewpoint       rv1       rv2  \n",
       "date                                                \n",
       "2016-01-11 17:00:00   0.538462  0.265449  0.265449  \n",
       "2016-01-11 17:10:00   0.533937  0.372083  0.372083  \n",
       "2016-01-11 17:20:00   0.529412  0.572848  0.572848  \n",
       "2016-01-11 17:30:00   0.524887  0.908261  0.908261  \n",
       "2016-01-11 17:40:00   0.520362  0.201611  0.201611  "
      ]
     },
     "execution_count": 1,
     "metadata": {},
     "output_type": "execute_result"
    }
   ],
   "source": [
    "import pandas as pd\n",
    "import numpy as np\n",
    "import matplotlib.pyplot as plt\n",
    "from sklearn.preprocessing import MinMaxScaler\n",
    "from sklearn import linear_model\n",
    "from sklearn.model_selection import train_test_split\n",
    "import seaborn as sns\n",
    "\n",
    "df=pd.read_csv('energydata_complete.csv',index_col=0)\n",
    "df.head()\n",
    "scaler=MinMaxScaler()\n",
    "#df.isnull().sum()\n",
    "normalised_df=pd.DataFrame(scaler.fit_transform(df),index=df.index,columns=df.columns)\n",
    "normalised_df.head()\n",
    "normalised_df.shape\n",
    "#normalised_df.info()\n",
    "pd.set_option('display.max_columns',28)\n",
    "normalised_df.head()"
   ]
  },
  {
   "cell_type": "code",
   "execution_count": 2,
   "id": "5325ff08",
   "metadata": {},
   "outputs": [],
   "source": [
    "Appliances=normalised_df['Appliances']\n",
    "features_df=normalised_df.drop(columns=['lights','Appliances'])\n",
    "\n",
    "x_train, x_test, y_train, y_test = train_test_split(features_df, Appliances,\n",
    "test_size=0.3, random_state=42)\n",
    "\n",
    "linearmodel=linear_model.LinearRegression()\n",
    "linearmodel.fit(x_train,y_train)\n",
    "pred=linearmodel.predict(x_test)\n"
   ]
  },
  {
   "cell_type": "code",
   "execution_count": 3,
   "id": "7a9f6fcf",
   "metadata": {},
   "outputs": [
    {
     "data": {
      "text/plain": [
       "date\n",
       "2016-03-14 01:40:00    0.028037\n",
       "2016-01-30 20:00:00    0.074766\n",
       "2016-03-15 03:00:00    0.037383\n",
       "2016-04-20 10:10:00    0.037383\n",
       "2016-03-13 08:10:00    0.056075\n",
       "                         ...   \n",
       "2016-01-17 11:30:00    0.224299\n",
       "2016-03-28 01:10:00    0.046729\n",
       "2016-04-02 09:10:00    0.037383\n",
       "2016-04-06 13:40:00    0.093458\n",
       "2016-04-03 02:10:00    0.037383\n",
       "Name: Appliances, Length: 5921, dtype: float64"
      ]
     },
     "execution_count": 3,
     "metadata": {},
     "output_type": "execute_result"
    }
   ],
   "source": [
    "y_test"
   ]
  },
  {
   "cell_type": "code",
   "execution_count": 4,
   "id": "cc189dc5",
   "metadata": {},
   "outputs": [
    {
     "name": "stdout",
     "output_type": "stream",
     "text": [
      "0.05013362397742955\n"
     ]
    }
   ],
   "source": [
    "from sklearn.metrics import mean_absolute_error\n",
    "mae = mean_absolute_error(y_test, pred)\n",
    "print(mae)"
   ]
  },
  {
   "cell_type": "code",
   "execution_count": 5,
   "id": "17df8e99",
   "metadata": {},
   "outputs": [
    {
     "name": "stdout",
     "output_type": "stream",
     "text": [
      "45.34762967266377\n"
     ]
    }
   ],
   "source": [
    "rss = np.sum(np.square(y_test - pred))\n",
    "print(rss)"
   ]
  },
  {
   "cell_type": "code",
   "execution_count": 6,
   "id": "30392850",
   "metadata": {},
   "outputs": [
    {
     "name": "stdout",
     "output_type": "stream",
     "text": [
      "0.0875144494766171\n"
     ]
    }
   ],
   "source": [
    "from sklearn.metrics import mean_squared_error\n",
    "rmse = np.sqrt(mean_squared_error(y_test, pred))\n",
    "print(rmse)"
   ]
  },
  {
   "cell_type": "code",
   "execution_count": 7,
   "id": "de029072",
   "metadata": {},
   "outputs": [
    {
     "name": "stdout",
     "output_type": "stream",
     "text": [
      "0.14890246319303535\n"
     ]
    }
   ],
   "source": [
    "from sklearn.metrics import r2_score\n",
    "r2_score = r2_score(y_test, pred)\n",
    "print(r2_score)"
   ]
  },
  {
   "cell_type": "code",
   "execution_count": 8,
   "id": "c0582d39",
   "metadata": {},
   "outputs": [
    {
     "name": "stdout",
     "output_type": "stream",
     "text": [
      "       Features  Linear_Model_Weight\n",
      "0          RH_2            -0.456698\n",
      "1         T_out            -0.321860\n",
      "2            T2            -0.236178\n",
      "3            T9            -0.189941\n",
      "4          RH_8            -0.157595\n",
      "5        RH_out            -0.077671\n",
      "6          RH_7            -0.044614\n",
      "7          RH_9            -0.039800\n",
      "8            T5            -0.015657\n",
      "9            T1            -0.003281\n",
      "10          rv1             0.000770\n",
      "11          rv2             0.000770\n",
      "12  Press_mm_hg             0.006839\n",
      "13           T7             0.010319\n",
      "14   Visibility             0.012307\n",
      "15         RH_5             0.016006\n",
      "16         RH_4             0.026386\n",
      "17           T4             0.028981\n",
      "18    Windspeed             0.029183\n",
      "19         RH_6             0.038049\n",
      "20         RH_3             0.096048\n",
      "21           T8             0.101995\n",
      "22    Tdewpoint             0.117758\n",
      "23           T6             0.236425\n",
      "24           T3             0.290627\n",
      "25         RH_1             0.553547\n"
     ]
    }
   ],
   "source": [
    "def get_weights_df(model, feat, col_name):\n",
    "    weights = pd.Series(model.coef_, feat.columns).sort_values()\n",
    "    weights_df = pd.DataFrame(weights).reset_index()\n",
    "    weights_df.columns = ['Features', col_name]\n",
    "    weights_df[col_name].round(3)\n",
    "    return weights_df\n",
    "\n",
    "linear_model_weights = get_weights_df(linearmodel, x_train, 'Linear_Model_Weight')\n",
    "print(linear_model_weights)\n"
   ]
  },
  {
   "cell_type": "code",
   "execution_count": 9,
   "id": "208cdcdd",
   "metadata": {},
   "outputs": [
    {
     "name": "stdout",
     "output_type": "stream",
     "text": [
      "0.08753385704628003\n"
     ]
    }
   ],
   "source": [
    "from sklearn.linear_model import Ridge\n",
    "ridge_reg = Ridge(alpha=0.4)\n",
    "ridge_reg.fit(x_train, y_train)\n",
    "predicted=ridge_reg.predict(x_test)\n",
    "rmse2 = np.sqrt(mean_squared_error(y_test, predicted))\n",
    "print(rmse2)"
   ]
  },
  {
   "cell_type": "code",
   "execution_count": 10,
   "id": "051be3c1",
   "metadata": {},
   "outputs": [
    {
     "name": "stdout",
     "output_type": "stream",
     "text": [
      "       Features  Lasso_weight\n",
      "0        RH_out     -0.049557\n",
      "1          RH_8     -0.000110\n",
      "2            T1      0.000000\n",
      "3     Tdewpoint      0.000000\n",
      "4    Visibility      0.000000\n",
      "5   Press_mm_hg     -0.000000\n",
      "6         T_out      0.000000\n",
      "7          RH_9     -0.000000\n",
      "8            T9     -0.000000\n",
      "9            T8      0.000000\n",
      "10         RH_7     -0.000000\n",
      "11          rv1     -0.000000\n",
      "12           T7     -0.000000\n",
      "13           T6      0.000000\n",
      "14         RH_5      0.000000\n",
      "15           T5     -0.000000\n",
      "16         RH_4      0.000000\n",
      "17           T4     -0.000000\n",
      "18         RH_3      0.000000\n",
      "19           T3      0.000000\n",
      "20         RH_2     -0.000000\n",
      "21           T2      0.000000\n",
      "22         RH_6     -0.000000\n",
      "23          rv2     -0.000000\n",
      "24    Windspeed      0.002912\n",
      "25         RH_1      0.017880\n"
     ]
    }
   ],
   "source": [
    "from sklearn.linear_model import Lasso\n",
    "lasso_reg = Lasso(alpha=0.001)\n",
    "lasso_reg.fit(x_train, y_train)\n",
    "lasso_weights_df = get_weights_df(lasso_reg, x_train, 'Lasso_weight')\n",
    "print(lasso_weights_df)"
   ]
  },
  {
   "cell_type": "code",
   "execution_count": 11,
   "id": "8d4c87a6",
   "metadata": {},
   "outputs": [
    {
     "name": "stdout",
     "output_type": "stream",
     "text": [
      "0.09358170467245137\n"
     ]
    }
   ],
   "source": [
    "pred2=lasso_reg.predict(x_test)\n",
    "rmse3 = np.sqrt(mean_squared_error(y_test, pred2))\n",
    "print(rmse3)"
   ]
  },
  {
   "cell_type": "code",
   "execution_count": 12,
   "id": "d849113a",
   "metadata": {},
   "outputs": [
    {
     "ename": "TypeError",
     "evalue": "'numpy.float64' object is not callable",
     "output_type": "error",
     "traceback": [
      "\u001b[1;31m---------------------------------------------------------------------------\u001b[0m",
      "\u001b[1;31mTypeError\u001b[0m                                 Traceback (most recent call last)",
      "\u001b[1;32m~\\AppData\\Local\\Temp\\ipykernel_16780\\3202675273.py\u001b[0m in \u001b[0;36m<module>\u001b[1;34m\u001b[0m\n\u001b[0;32m      2\u001b[0m \u001b[0mmodel\u001b[0m\u001b[1;33m.\u001b[0m\u001b[0mfit\u001b[0m\u001b[1;33m(\u001b[0m\u001b[0mnormalised_df\u001b[0m\u001b[1;33m[\u001b[0m\u001b[1;33m[\u001b[0m\u001b[1;34m'T2'\u001b[0m\u001b[1;33m]\u001b[0m\u001b[1;33m]\u001b[0m\u001b[1;33m,\u001b[0m\u001b[0mnormalised_df\u001b[0m\u001b[1;33m[\u001b[0m\u001b[1;34m'T6'\u001b[0m\u001b[1;33m]\u001b[0m\u001b[1;33m)\u001b[0m\u001b[1;33m\u001b[0m\u001b[1;33m\u001b[0m\u001b[0m\n\u001b[0;32m      3\u001b[0m \u001b[0mpredlast\u001b[0m\u001b[1;33m=\u001b[0m\u001b[0mmodel\u001b[0m\u001b[1;33m.\u001b[0m\u001b[0mpredict\u001b[0m\u001b[1;33m(\u001b[0m\u001b[0mnormalised_df\u001b[0m\u001b[1;33m[\u001b[0m\u001b[1;33m[\u001b[0m\u001b[1;34m'T2'\u001b[0m\u001b[1;33m]\u001b[0m\u001b[1;33m]\u001b[0m\u001b[1;33m)\u001b[0m\u001b[1;33m\u001b[0m\u001b[1;33m\u001b[0m\u001b[0m\n\u001b[1;32m----> 4\u001b[1;33m \u001b[0mr2_score2\u001b[0m \u001b[1;33m=\u001b[0m \u001b[0mr2_score\u001b[0m\u001b[1;33m(\u001b[0m\u001b[0mpredlast\u001b[0m\u001b[1;33m,\u001b[0m \u001b[0mnormalised_df\u001b[0m\u001b[1;33m[\u001b[0m\u001b[1;33m[\u001b[0m\u001b[1;34m'T2'\u001b[0m\u001b[1;33m]\u001b[0m\u001b[1;33m]\u001b[0m\u001b[1;33m)\u001b[0m\u001b[1;33m\u001b[0m\u001b[1;33m\u001b[0m\u001b[0m\n\u001b[0m",
      "\u001b[1;31mTypeError\u001b[0m: 'numpy.float64' object is not callable"
     ]
    }
   ],
   "source": [
    "model=linear_model.LinearRegression()\n",
    "model.fit(normalised_df[['T2']],normalised_df['T6'])\n",
    "predlast=model.predict(normalised_df[['T2']])\n",
    "r2_score2 = r2_score(predlast, normalised_df[['T2']])\n"
   ]
  }
 ],
 "metadata": {
  "kernelspec": {
   "display_name": "Python 3 (ipykernel)",
   "language": "python",
   "name": "python3"
  },
  "language_info": {
   "codemirror_mode": {
    "name": "ipython",
    "version": 3
   },
   "file_extension": ".py",
   "mimetype": "text/x-python",
   "name": "python",
   "nbconvert_exporter": "python",
   "pygments_lexer": "ipython3",
   "version": "3.9.13"
  }
 },
 "nbformat": 4,
 "nbformat_minor": 5
}
